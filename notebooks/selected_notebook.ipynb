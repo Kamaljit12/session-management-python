{
 "cells": [
  {
   "cell_type": "code",
   "execution_count": 1,
   "id": "7826dc02",
   "metadata": {},
   "outputs": [],
   "source": [
    "import uuid\n",
    "from typing import Dict\n",
    "from datetime import datetime\n",
    "from pydantic import BaseModel\n",
    "from langchain.memory import ConversationBufferMemory\n",
    "from langchain.schema import messages_from_dict, messages_to_dict\n",
    "from groq import Groq\n",
    "import os\n",
    "from dotenv import load_dotenv\n",
    "\n",
    "load_dotenv()\n",
    "\n",
    "# groq llm client\n",
    "client = Groq(api_key=os.getenv(\"GROQ_API_KEY\"))"
   ]
  },
  {
   "cell_type": "code",
   "execution_count": 2,
   "id": "a3bab0d1",
   "metadata": {},
   "outputs": [],
   "source": [
    "def groq_chat(messages: list) -> str:\n",
    "\n",
    "    # if SessionId.session_id not in session_state:\n",
    "    \n",
    "    # Create a simple but context-aware prompt\n",
    "    prompt = f\"Answer the following user query clearly and concisely:\\n\\n{messages}\"\n",
    "\n",
    "    # Send request to Groq model\n",
    "    response = client.chat.completions.create(\n",
    "        model=\"llama-3.1-8b-instant\",\n",
    "        messages=[\n",
    "            {\"role\": \"system\", \"content\": \"You are a helpful AI assistant.\"},\n",
    "            {\"role\": \"user\", \"content\": prompt}\n",
    "        ]\n",
    "    )\n",
    "    # Extract and return response text\n",
    "    return response.choices[0].message.content.strip()"
   ]
  },
  {
   "cell_type": "code",
   "execution_count": 3,
   "id": "606a5433",
   "metadata": {},
   "outputs": [
    {
     "data": {
      "text/plain": [
       "'The capital of India is New Delhi.'"
      ]
     },
     "execution_count": 3,
     "metadata": {},
     "output_type": "execute_result"
    }
   ],
   "source": [
    "groq_chat(messages=[\"what is the capital of India?\"])"
   ]
  },
  {
   "cell_type": "code",
   "execution_count": 4,
   "id": "9fa7ae20",
   "metadata": {},
   "outputs": [],
   "source": [
    "class ChatRequest(BaseModel):\n",
    "    query: str\n",
    "\n",
    "class SessionId(BaseModel):\n",
    "    session_id: str = None  # Optional, if not provided, create new\n",
    "\n",
    "class ChatResponse(BaseModel):\n",
    "    response: str"
   ]
  },
  {
   "cell_type": "code",
   "execution_count": 5,
   "id": "eb91eb63",
   "metadata": {},
   "outputs": [],
   "source": [
    "# --- Memory Management ---\n",
    "# In-memory active sessions\n",
    "active_sessions: Dict[str, ConversationBufferMemory] = {}"
   ]
  },
  {
   "cell_type": "code",
   "execution_count": 6,
   "id": "6f741bf6",
   "metadata": {},
   "outputs": [
    {
     "data": {
      "text/plain": [
       "{}"
      ]
     },
     "execution_count": 6,
     "metadata": {},
     "output_type": "execute_result"
    }
   ],
   "source": [
    "active_sessions"
   ]
  },
  {
   "cell_type": "code",
   "execution_count": 7,
   "id": "18dea7b5",
   "metadata": {},
   "outputs": [
    {
     "name": "stdout",
     "output_type": "stream",
     "text": [
      "created sessison id\n"
     ]
    }
   ],
   "source": [
    "session_id = \"a33ba0aa256c48bea03793e70b733113,\"\n",
    "\n",
    "\n",
    "if session_id in active_sessions.values():\n",
    "    print(session_id)\n",
    "else:\n",
    "    print(\"created sessison id\")"
   ]
  },
  {
   "cell_type": "code",
   "execution_count": 8,
   "id": "3cc51a02",
   "metadata": {},
   "outputs": [
    {
     "data": {
      "text/plain": [
       "{}"
      ]
     },
     "execution_count": 8,
     "metadata": {},
     "output_type": "execute_result"
    }
   ],
   "source": [
    "active_sessions"
   ]
  },
  {
   "cell_type": "code",
   "execution_count": 9,
   "id": "ca5d7d43",
   "metadata": {},
   "outputs": [
    {
     "data": {
      "text/plain": [
       "SessionId(session_id='fda9441bb78e46a79398ff0095cc8593')"
      ]
     },
     "execution_count": 9,
     "metadata": {},
     "output_type": "execute_result"
    }
   ],
   "source": [
    "# filter session id\n",
    "def filter_session_id(state: SessionId) -> SessionId:\n",
    "    \n",
    "    if state.session_id in active_sessions.values():\n",
    "        # Create new session\n",
    "        state['session_id'] = state.sesstion_id\n",
    "        \n",
    "    return state\n",
    "\n",
    "filter_session_id(SessionId(session_id=\"fda9441bb78e46a79398ff0095cc8593\"))"
   ]
  },
  {
   "cell_type": "code",
   "execution_count": 10,
   "id": "ad2cf59d",
   "metadata": {},
   "outputs": [],
   "source": [
    "# --- Session filter/create function ---\n",
    "def filter_or_create_session_id(state: SessionId) -> str:\n",
    "    \"\"\"\n",
    "    Ensures session_id exists in active_sessions.\n",
    "    If not, creates a new one with ConversationBufferMemory.\n",
    "    \"\"\"\n",
    "    session_id = state.session_id\n",
    "\n",
    "    if not session_id or session_id not in active_sessions:\n",
    "        session_id = str(uuid.uuid4().hex)\n",
    "        active_sessions[session_id] = ConversationBufferMemory(\n",
    "            memory_key=\"chat_history\",\n",
    "            return_messages=True\n",
    "        )\n",
    "        print(f\"🆕 Created new session: {session_id}\")\n",
    "    else:\n",
    "        print(f\"✅ Using existing session: {session_id}\")\n",
    "\n",
    "    return session_id"
   ]
  },
  {
   "cell_type": "code",
   "execution_count": 32,
   "id": "9af4aa20",
   "metadata": {},
   "outputs": [
    {
     "name": "stdout",
     "output_type": "stream",
     "text": [
      "None\n"
     ]
    }
   ],
   "source": [
    "def filter_or_create_session_id(session_id: str) -> str:\n",
    "\n",
    "    if session_id not in active_sessions:\n",
    "        # Create new session\n",
    "        session_id = str(uuid.uuid4().hex)\n",
    "        active_sessions[session_id] = ConversationBufferMemory(memory_key=\"chat_history\", return_messages=True)\n",
    "    else:\n",
    "        # Use existing session\n",
    "        return session_id\n",
    "    \n",
    "# filter or create sesison id\n",
    "filtered_session_id = filter_or_create_session_id(session_id=\"fda9441bb78e46a79398ff0095cc8593\")\n",
    "print(filtered_session_id)"
   ]
  },
  {
   "cell_type": "code",
   "execution_count": 30,
   "id": "227f57d5",
   "metadata": {},
   "outputs": [],
   "source": [
    "# ============ filter_or_create_session_id\n",
    "# def filter_or_create_session_id(state: SessionId):\n",
    "    \n",
    "#     session_id = state.session_id\n",
    "\n",
    "#     if session_id not in active_sessions:\n",
    "#         # Create new session\n",
    "#         state.session_id = str(uuid.uuid4().hex)\n",
    "#         active_sessions[state.session_id] = ConversationBufferMemory(memory_key=\"chat_history\", return_messages=True)\n",
    "#     else:\n",
    "#         # Use existing session\n",
    "#         return state.session_id\n",
    "    \n",
    "# # filter or create sesison id\n",
    "# filtered_session_id = filter_or_create_session_id(SessionId(session_id=\"fda9441bb78e46a79398ff0095cc8593\"))\n",
    "# print(filtered_session_id)"
   ]
  },
  {
   "cell_type": "code",
   "execution_count": 12,
   "id": "7b0179c9",
   "metadata": {},
   "outputs": [
    {
     "data": {
      "text/plain": [
       "{'1d15849f245a4e378421430c4e7ec532': ConversationBufferMemory(chat_memory=InMemoryChatMessageHistory(messages=[]), return_messages=True, memory_key='chat_history')}"
      ]
     },
     "execution_count": 12,
     "metadata": {},
     "output_type": "execute_result"
    }
   ],
   "source": [
    "active_sessions"
   ]
  },
  {
   "cell_type": "code",
   "execution_count": 13,
   "id": "f87b898e",
   "metadata": {},
   "outputs": [
    {
     "name": "stdout",
     "output_type": "stream",
     "text": [
      "created session id\n"
     ]
    }
   ],
   "source": [
    "session_id = \"fda9441bb78e46a79398ff0095cc8593\"\n",
    "\n",
    "if filter_or_create_session_id(SessionId(session_id=session_id)):\n",
    "    print(session_id)\n",
    "else:\n",
    "    print(\"created session id\")"
   ]
  },
  {
   "cell_type": "code",
   "execution_count": 24,
   "id": "a4eeaef7",
   "metadata": {},
   "outputs": [],
   "source": [
    "def chatbot(query: str) -> str:\n",
    "    \n",
    "    # Create a simple but context-aware prompt\n",
    "    prompt = f\"Answer the following user query clearly and concisely:\\n\\n{query}\"\n",
    "\n",
    "    # Send request to Groq model\n",
    "    response = client.chat.completions.create(\n",
    "        model=\"llama-3.1-8b-instant\",\n",
    "        messages=[\n",
    "            {\"role\": \"system\", \"content\": \"You are a helpful AI assistant.\"},\n",
    "            {\"role\": \"user\", \"content\": prompt}\n",
    "        ]\n",
    "    )\n",
    "    # Extract and return response text\n",
    "    return response.choices[0].message.content.strip()"
   ]
  },
  {
   "cell_type": "code",
   "execution_count": 25,
   "id": "01aa8307",
   "metadata": {},
   "outputs": [
    {
     "name": "stdout",
     "output_type": "stream",
     "text": [
      "The capital of India is New Delhi.\n"
     ]
    }
   ],
   "source": [
    "response = chatbot(query=\"what is the capital of India?\")\n",
    "print(response)"
   ]
  },
  {
   "cell_type": "markdown",
   "id": "d39f6efc",
   "metadata": {},
   "source": [
    "<!-- ### Now manage the session with memeory in chatbot -->"
   ]
  },
  {
   "cell_type": "code",
   "execution_count": 16,
   "id": "32d81e38",
   "metadata": {},
   "outputs": [
    {
     "data": {
      "text/plain": [
       "{'1d15849f245a4e378421430c4e7ec532': ConversationBufferMemory(chat_memory=InMemoryChatMessageHistory(messages=[]), return_messages=True, memory_key='chat_history'),\n",
       " '5c65fbcfcd324943a2eee0a19cc0670e': ConversationBufferMemory(chat_memory=InMemoryChatMessageHistory(messages=[]), return_messages=True, memory_key='chat_history')}"
      ]
     },
     "execution_count": 16,
     "metadata": {},
     "output_type": "execute_result"
    }
   ],
   "source": [
    "active_sessions"
   ]
  },
  {
   "cell_type": "code",
   "execution_count": 17,
   "id": "b79120f0",
   "metadata": {},
   "outputs": [
    {
     "name": "stdout",
     "output_type": "stream",
     "text": [
      "created session id\n"
     ]
    }
   ],
   "source": [
    "session_id = \"fda9441bb78e46a79398ff0095cc8593\"\n",
    "\n",
    "if filter_or_create_session_id(SessionId(session_id=session_id)):\n",
    "    print(session_id)\n",
    "else:\n",
    "    print(\"created session id\")"
   ]
  },
  {
   "cell_type": "code",
   "execution_count": 18,
   "id": "c653f51a",
   "metadata": {},
   "outputs": [],
   "source": [
    "query: ChatRequest = \"hello\""
   ]
  },
  {
   "cell_type": "code",
   "execution_count": 19,
   "id": "8844a420",
   "metadata": {},
   "outputs": [
    {
     "data": {
      "text/plain": [
       "'hello'"
      ]
     },
     "execution_count": 19,
     "metadata": {},
     "output_type": "execute_result"
    }
   ],
   "source": [
    "query"
   ]
  },
  {
   "cell_type": "code",
   "execution_count": 38,
   "id": "c23e1fb5",
   "metadata": {},
   "outputs": [],
   "source": [
    "class ChatRequest(BaseModel):\n",
    "    query: str\n",
    "    session_id: str = None  # Optional, if not provided, create new\n",
    "\n",
    "class ChatResponse(BaseModel):\n",
    "    session_id: str = None  # Return session_id in response\n",
    "    history: list = []  # Chat history"
   ]
  },
  {
   "cell_type": "code",
   "execution_count": 42,
   "id": "29f3c16f",
   "metadata": {},
   "outputs": [],
   "source": [
    "# --- Chatbot function with conversation memory ---\n",
    "def chat_with_memory(state: ChatRequest) -> ChatResponse:\n",
    "    \"\"\"\n",
    "    Manage conversational chat sessions with memory.\n",
    "    Creates or reuses a session and keeps conversation context.\n",
    "    \"\"\"\n",
    "    # 1. Ensure session exists\n",
    "    session_id = filter_or_create_session_id(session_id=state.session_id)\n",
    "    memory = active_sessions[session_id]\n",
    "\n",
    "    # 2. Add user message to memory\n",
    "    memory.chat_memory.add_user_message(state.query)\n",
    "\n",
    "    # 3. Convert chat memory to Groq messages format\n",
    "    messages_for_groq = [\n",
    "        {\"role\": \"user\" if msg.type == \"human\" else \"assistant\", \"content\": msg.content}\n",
    "        for msg in memory.chat_memory.messages]\n",
    "\n",
    "    # 4. Get response from Groq model\n",
    "    assistant_reply = chatbot(query=messages_for_groq)\n",
    "\n",
    "    # 5. Add assistant reply to memory\n",
    "    memory.chat_memory.add_ai_message(assistant_reply)\n",
    "\n",
    "    # 6. Prepare history for response\n",
    "    chat_history = [\n",
    "        {\"role\": \"user\" if msg.type == \"human\" else \"assistant\", \"content\": msg.content}\n",
    "        for msg in memory.chat_memory.messages]\n",
    "    \n",
    "    # 7. Return response\n",
    "    return ChatResponse(session_id=session_id, history=chat_history)"
   ]
  },
  {
   "cell_type": "code",
   "execution_count": 49,
   "id": "e878f646",
   "metadata": {},
   "outputs": [
    {
     "data": {
      "text/plain": [
       "ChatRequest(query='What is the capital of India?', session_id=None)"
      ]
     },
     "execution_count": 49,
     "metadata": {},
     "output_type": "execute_result"
    }
   ],
   "source": [
    "user_input = ChatRequest(query=\"What is the capital of India?\")\n",
    "user_input"
   ]
  },
  {
   "cell_type": "code",
   "execution_count": null,
   "id": "b75da9c4",
   "metadata": {},
   "outputs": [],
   "source": [
    "chat_with_memory"
   ]
  },
  {
   "cell_type": "code",
   "execution_count": 22,
   "id": "b757955a",
   "metadata": {},
   "outputs": [],
   "source": [
    "def get_response(query) -> str:\n",
    "    response = chatbot(ChatRequest(query=query)).response\n",
    "    return response"
   ]
  },
  {
   "cell_type": "code",
   "execution_count": 23,
   "id": "612040c9",
   "metadata": {},
   "outputs": [
    {
     "data": {
      "text/plain": [
       "'The capital of India is New Delhi.'"
      ]
     },
     "execution_count": 23,
     "metadata": {},
     "output_type": "execute_result"
    }
   ],
   "source": [
    "get_response(query=\"what is the capital of India?\")"
   ]
  }
 ],
 "metadata": {
  "kernelspec": {
   "display_name": ".venv",
   "language": "python",
   "name": "python3"
  },
  "language_info": {
   "codemirror_mode": {
    "name": "ipython",
    "version": 3
   },
   "file_extension": ".py",
   "mimetype": "text/x-python",
   "name": "python",
   "nbconvert_exporter": "python",
   "pygments_lexer": "ipython3",
   "version": "3.12.1"
  }
 },
 "nbformat": 4,
 "nbformat_minor": 5
}
