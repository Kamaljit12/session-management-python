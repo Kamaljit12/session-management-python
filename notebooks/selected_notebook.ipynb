{
 "cells": [
  {
   "cell_type": "code",
   "execution_count": null,
   "id": "7826dc02",
   "metadata": {},
   "outputs": [],
   "source": [
    "import uuid\n",
    "from typing import Dict\n",
    "from datetime import datetime\n",
    "from pydantic import BaseModel\n",
    "from langchain.memory import ConversationBufferMemory\n",
    "from langchain.schema import messages_from_dict, messages_to_dict\n",
    "from groq import Groq\n",
    "import os\n",
    "from dotenv import load_dotenv\n",
    "\n",
    "load_dotenv()\n",
    "\n",
    "# groq llm client\n",
    "client = Groq(api_key=os.getenv(\"GROQ_API_KEY\"))"
   ]
  },
  {
   "cell_type": "code",
   "execution_count": null,
   "id": "a3bab0d1",
   "metadata": {},
   "outputs": [],
   "source": [
    "def groq_chat(messages: list) -> str:\n",
    "\n",
    "    # if SessionId.session_id not in session_state:\n",
    "    \n",
    "    # Create a simple but context-aware prompt\n",
    "    prompt = f\"Answer the following user query clearly and concisely:\\n\\n{messages}\"\n",
    "\n",
    "    # Send request to Groq model\n",
    "    response = client.chat.completions.create(\n",
    "        model=\"llama-3.1-8b-instant\",\n",
    "        messages=[\n",
    "            {\"role\": \"system\", \"content\": \"You are a helpful AI assistant.\"},\n",
    "            {\"role\": \"user\", \"content\": prompt}\n",
    "        ]\n",
    "    )\n",
    "    # Extract and return response text\n",
    "    return response.choices[0].message.content.strip()"
   ]
  },
  {
   "cell_type": "code",
   "execution_count": null,
   "id": "606a5433",
   "metadata": {},
   "outputs": [
    {
     "data": {
      "text/plain": [
       "'The capital of India is New Delhi.'"
      ]
     },
     "execution_count": 22,
     "metadata": {},
     "output_type": "execute_result"
    }
   ],
   "source": [
    "groq_chat(messages=[\"what is the capital of India?\"])"
   ]
  },
  {
   "cell_type": "code",
   "execution_count": null,
   "id": "9fa7ae20",
   "metadata": {},
   "outputs": [],
   "source": [
    "class ChatRequest(BaseModel):\n",
    "    query: str\n",
    "\n",
    "class SessionId(BaseModel):\n",
    "    session_id: str = None  # Optional, if not provided, create new\n",
    "\n",
    "class ChatResponse(BaseModel):\n",
    "    response: str"
   ]
  },
  {
   "cell_type": "code",
   "execution_count": null,
   "id": "eb91eb63",
   "metadata": {},
   "outputs": [],
   "source": [
    "# --- Memory Management ---\n",
    "# In-memory active sessions\n",
    "active_sessions: Dict[str, ConversationBufferMemory] = {}"
   ]
  },
  {
   "cell_type": "code",
   "execution_count": null,
   "id": "6f741bf6",
   "metadata": {},
   "outputs": [
    {
     "data": {
      "text/plain": [
       "{}"
      ]
     },
     "execution_count": 25,
     "metadata": {},
     "output_type": "execute_result"
    }
   ],
   "source": [
    "active_sessions"
   ]
  },
  {
   "cell_type": "code",
   "execution_count": null,
   "id": "18dea7b5",
   "metadata": {},
   "outputs": [
    {
     "name": "stdout",
     "output_type": "stream",
     "text": [
      "created sessison id\n"
     ]
    }
   ],
   "source": [
    "session_id = \"a33ba0aa256c48bea03793e70b733113,\"\n",
    "\n",
    "\n",
    "if session_id in active_sessions.values():\n",
    "    print(session_id)\n",
    "else:\n",
    "    print(\"created sessison id\")"
   ]
  },
  {
   "cell_type": "code",
   "execution_count": null,
   "id": "3cc51a02",
   "metadata": {},
   "outputs": [
    {
     "data": {
      "text/plain": [
       "{'fda9441bb78e46a79398ff0095cc8593': ConversationBufferMemory(chat_memory=InMemoryChatMessageHistory(messages=[]), return_messages=True, memory_key='chat_history'),\n",
       " 'cc5ad13eb5e5424294d933ec10d9d86e': ConversationBufferMemory(chat_memory=InMemoryChatMessageHistory(messages=[]), return_messages=True, memory_key='chat_history'),\n",
       " 'a33ba0aa256c48bea03793e70b733113': ConversationBufferMemory(chat_memory=InMemoryChatMessageHistory(messages=[]), return_messages=True, memory_key='chat_history')}"
      ]
     },
     "execution_count": 81,
     "metadata": {},
     "output_type": "execute_result"
    }
   ],
   "source": [
    "active_sessions"
   ]
  },
  {
   "cell_type": "code",
   "execution_count": null,
   "id": "ca5d7d43",
   "metadata": {},
   "outputs": [
    {
     "data": {
      "text/plain": [
       "SessionId(session_id='fda9441bb78e46a79398ff0095cc8593')"
      ]
     },
     "execution_count": 89,
     "metadata": {},
     "output_type": "execute_result"
    }
   ],
   "source": [
    "# filter session id\n",
    "def filter_session_id(state: SessionId) -> SessionId:\n",
    "    \n",
    "    if state.session_id in active_sessions.values():\n",
    "        # Create new session\n",
    "        state['session_id'] = state.sesstion_id\n",
    "        \n",
    "    return state\n",
    "\n",
    "filter_session_id(SessionId(session_id=\"fda9441bb78e46a79398ff0095cc8593\"))"
   ]
  },
  {
   "cell_type": "code",
   "execution_count": null,
   "id": "ad2cf59d",
   "metadata": {},
   "outputs": [
    {
     "data": {
      "text/plain": [
       "SessionId(session_id='fda9441bb78e46a79398ff0095cc8593')"
      ]
     },
     "execution_count": 77,
     "metadata": {},
     "output_type": "execute_result"
    }
   ],
   "source": [
    "# --- Session filter/create function ---\n",
    "def filter_or_create_session_id(state: SessionId) -> str:\n",
    "    \"\"\"\n",
    "    Ensures session_id exists in active_sessions.\n",
    "    If not, creates a new one with ConversationBufferMemory.\n",
    "    \"\"\"\n",
    "    session_id = state.session_id\n",
    "\n",
    "    if not session_id or session_id not in active_sessions:\n",
    "        session_id = str(uuid.uuid4().hex)\n",
    "        active_sessions[session_id] = ConversationBufferMemory(\n",
    "            memory_key=\"chat_history\",\n",
    "            return_messages=True\n",
    "        )\n",
    "        print(f\"🆕 Created new session: {session_id}\")\n",
    "    else:\n",
    "        print(f\"✅ Using existing session: {session_id}\")\n",
    "\n",
    "    return session_id"
   ]
  },
  {
   "cell_type": "code",
   "execution_count": null,
   "id": "227f57d5",
   "metadata": {},
   "outputs": [
    {
     "name": "stdout",
     "output_type": "stream",
     "text": [
      "fda9441bb78e46a79398ff0095cc8593\n"
     ]
    }
   ],
   "source": [
    "def filter_or_create_session_id(state: SessionId):\n",
    "    \n",
    "    session_id = state.session_id\n",
    "\n",
    "    if session_id not in active_sessions:\n",
    "        # Create new session\n",
    "        state.session_id = str(uuid.uuid4().hex)\n",
    "        active_sessions[state.session_id] = ConversationBufferMemory(memory_key=\"chat_history\", return_messages=True)\n",
    "    else:\n",
    "        # Use existing session\n",
    "        return state.session_id\n",
    "    \n",
    "# filter or create sesison id\n",
    "filtered_session_id = filter_or_create_session_id(SessionId(session_id=\"fda9441bb78e46a79398ff0095cc8593\"))\n",
    "print(filtered_session_id)"
   ]
  },
  {
   "cell_type": "code",
   "execution_count": null,
   "id": "7b0179c9",
   "metadata": {},
   "outputs": [
    {
     "data": {
      "text/plain": [
       "{'fda9441bb78e46a79398ff0095cc8593': ConversationBufferMemory(chat_memory=InMemoryChatMessageHistory(messages=[]), return_messages=True, memory_key='chat_history'),\n",
       " 'cc5ad13eb5e5424294d933ec10d9d86e': ConversationBufferMemory(chat_memory=InMemoryChatMessageHistory(messages=[]), return_messages=True, memory_key='chat_history'),\n",
       " 'a33ba0aa256c48bea03793e70b733113': ConversationBufferMemory(chat_memory=InMemoryChatMessageHistory(messages=[]), return_messages=True, memory_key='chat_history'),\n",
       " '99f4ddfb1ef74a7eab5077c4c4ca8d5f': ConversationBufferMemory(chat_memory=InMemoryChatMessageHistory(messages=[]), return_messages=True, memory_key='chat_history')}"
      ]
     },
     "execution_count": 98,
     "metadata": {},
     "output_type": "execute_result"
    }
   ],
   "source": [
    "active_sessions"
   ]
  },
  {
   "cell_type": "code",
   "execution_count": null,
   "id": "f87b898e",
   "metadata": {},
   "outputs": [
    {
     "name": "stdout",
     "output_type": "stream",
     "text": [
      "fda9441bb78e46a79398ff0095cc8593\n"
     ]
    }
   ],
   "source": [
    "session_id = \"fda9441bb78e46a79398ff0095cc8593\"\n",
    "\n",
    "if filter_or_create_session_id(SessionId(session_id=session_id)):\n",
    "    print(session_id)\n",
    "else:\n",
    "    print(\"created session id\")"
   ]
  },
  {
   "cell_type": "code",
   "execution_count": null,
   "id": "a4eeaef7",
   "metadata": {},
   "outputs": [],
   "source": [
    "def chatbot(state: ChatRequest) -> ChatResponse:\n",
    "\n",
    "    # user message\n",
    "    query = state.query\n",
    "    \n",
    "    # Create a simple but context-aware prompt\n",
    "    prompt = f\"Answer the following user query clearly and concisely:\\n\\n{query}\"\n",
    "\n",
    "    # Send request to Groq model\n",
    "    response = client.chat.completions.create(\n",
    "        model=\"llama-3.1-8b-instant\",\n",
    "        messages=[\n",
    "            {\"role\": \"system\", \"content\": \"You are a helpful AI assistant.\"},\n",
    "            {\"role\": \"user\", \"content\": prompt}\n",
    "        ]\n",
    "    )\n",
    "    # Extract and return response text\n",
    "    response_text = response.choices[0].message.content.strip()\n",
    "    return ChatResponse(response=response_text)"
   ]
  },
  {
   "cell_type": "code",
   "execution_count": null,
   "id": "01aa8307",
   "metadata": {},
   "outputs": [
    {
     "name": "stdout",
     "output_type": "stream",
     "text": [
      "The capital of India is New Delhi.\n"
     ]
    }
   ],
   "source": [
    "response = chatbot(ChatRequest(query=\"what is the capital of India?\")).response\n",
    "print(response)"
   ]
  },
  {
   "cell_type": "markdown",
   "id": "d39f6efc",
   "metadata": {},
   "source": [
    "<!-- ### Now manage the session with memeory in chatbot -->"
   ]
  },
  {
   "cell_type": "code",
   "execution_count": null,
   "id": "32d81e38",
   "metadata": {},
   "outputs": [
    {
     "data": {
      "text/plain": [
       "{'fda9441bb78e46a79398ff0095cc8593': ConversationBufferMemory(chat_memory=InMemoryChatMessageHistory(messages=[]), return_messages=True, memory_key='chat_history'),\n",
       " 'cc5ad13eb5e5424294d933ec10d9d86e': ConversationBufferMemory(chat_memory=InMemoryChatMessageHistory(messages=[]), return_messages=True, memory_key='chat_history'),\n",
       " 'a33ba0aa256c48bea03793e70b733113': ConversationBufferMemory(chat_memory=InMemoryChatMessageHistory(messages=[]), return_messages=True, memory_key='chat_history'),\n",
       " '99f4ddfb1ef74a7eab5077c4c4ca8d5f': ConversationBufferMemory(chat_memory=InMemoryChatMessageHistory(messages=[]), return_messages=True, memory_key='chat_history')}"
      ]
     },
     "execution_count": 102,
     "metadata": {},
     "output_type": "execute_result"
    }
   ],
   "source": [
    "active_sessions"
   ]
  },
  {
   "cell_type": "code",
   "execution_count": null,
   "id": "b79120f0",
   "metadata": {},
   "outputs": [],
   "source": [
    "session_id = \"fda9441bb78e46a79398ff0095cc8593\"\n",
    "\n",
    "if filter_or_create_session_id(SessionId(session_id=session_id)):\n",
    "    print(session_id)\n",
    "else:\n",
    "    print(\"created session id\")"
   ]
  },
  {
   "cell_type": "code",
   "execution_count": null,
   "id": "c653f51a",
   "metadata": {},
   "outputs": [],
   "source": [
    "query: ChatRequest = \"hello\""
   ]
  },
  {
   "cell_type": "code",
   "execution_count": null,
   "id": "8844a420",
   "metadata": {},
   "outputs": [
    {
     "data": {
      "text/plain": [
       "'hello'"
      ]
     },
     "execution_count": 105,
     "metadata": {},
     "output_type": "execute_result"
    }
   ],
   "source": [
    "query"
   ]
  },
  {
   "cell_type": "code",
   "execution_count": null,
   "id": "29f3c16f",
   "metadata": {},
   "outputs": [],
   "source": [
    "# --- Chatbot function ---\n",
    "def chat_bot(request: ChatRequest, save_after_chat: bool = False) -> ChatResponse:\n",
    "\n",
    "    # --- Load or create session ---\n",
    "    if filter_or_create_session_id(SessionId(session_id=session_id)) in active_sessions:\n",
    "        session_id = active_sessions[session_id]\n",
    "        memory = ConversationBufferMemory(return_messages=True)\n",
    "        if not memory:\n",
    "            # Load from disk if available\n",
    "            memory = load_session(session_id)\n",
    "\n",
    "    # --- Add user message ---\n",
    "    memory.chat_memory.add_user_message(request.message)\n",
    "\n",
    "    # --- Prepare messages for Groq ---\n",
    "    messages_list = [\n",
    "        {\"role\": \"user\" if msg.type == \"human\" else \"assistant\", \"content\": msg.content}\n",
    "        for msg in memory.chat_memory.messages\n",
    "    ]\n",
    "\n",
    "    # --- Get assistant response ---\n",
    "    assistant_reply = groq_chat(messages_list)\n",
    "    memory.chat_memory.add_ai_message(assistant_reply)\n",
    "\n",
    "    # --- Update active sessions ---\n",
    "    active_sessions[session_id] = memory\n",
    "\n",
    "    # --- Optionally save session to disk ---\n",
    "    if save_after_chat:\n",
    "        save_session(session_id, memory)\n",
    "        active_sessions.pop(session_id, None)  # remove from active sessions\n",
    "\n",
    "    return ChatResponse(session_id=session_id, history=messages_list + [{\"role\": \"assistant\", \"content\": assistant_reply}])"
   ]
  },
  {
   "cell_type": "code",
   "execution_count": null,
   "id": "e878f646",
   "metadata": {},
   "outputs": [],
   "source": [
    "def get_response(query: str, session_id: str) -> str:\n",
    "\n",
    "    session_id = get_session_id(SessionId(session_id=session_id))\n",
    "\n",
    "    \n",
    "\n",
    "    response = chatbot(ChatRequest(query=query)).response\n",
    "    return response"
   ]
  },
  {
   "cell_type": "code",
   "execution_count": null,
   "id": "b757955a",
   "metadata": {},
   "outputs": [],
   "source": [
    "def get_response(query) -> str:\n",
    "    response = chatbot(ChatRequest(query=query)).response\n",
    "    return response"
   ]
  },
  {
   "cell_type": "code",
   "execution_count": null,
   "id": "612040c9",
   "metadata": {},
   "outputs": [
    {
     "data": {
      "text/plain": [
       "'The capital of India is New Delhi.'"
      ]
     },
     "execution_count": 33,
     "metadata": {},
     "output_type": "execute_result"
    }
   ],
   "source": [
    "get_response(query=\"what is the capital of India?\")"
   ]
  }
 ],
 "metadata": {
  "kernelspec": {
   "display_name": ".venv",
   "language": "python",
   "name": "python3"
  },
  "language_info": {
   "codemirror_mode": {
    "name": "ipython",
    "version": 3
   },
   "file_extension": ".py",
   "mimetype": "text/x-python",
   "name": "python",
   "nbconvert_exporter": "python",
   "pygments_lexer": "ipython3",
   "version": "3.12.1"
  }
 },
 "nbformat": 4,
 "nbformat_minor": 5
}
