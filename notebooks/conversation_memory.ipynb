{
 "cells": [
  {
   "cell_type": "code",
   "execution_count": 42,
   "id": "1df8091f",
   "metadata": {},
   "outputs": [],
   "source": [
    "from langchain.memory import ConversationBufferMemory\n",
    "from langchain.schema import AIMessage, HumanMessage, SystemMessage\n",
    "from typing import Dict\n",
    "\n",
    "active_sessions: Dict[str, ConversationBufferMemory] = {}\n",
    "memory = ConversationBufferMemory(return_messages=True)"
   ]
  },
  {
   "cell_type": "code",
   "execution_count": 24,
   "id": "db14e6df",
   "metadata": {},
   "outputs": [],
   "source": [
    "messages = [\n",
    "    SystemMessage(content=\"You are a helpful assistant that translates English to French.\"),\n",
    "    HumanMessage(content=\"Translate: I love programming.\"),\n",
    "    AIMessage(content=\"J'adore programmer.\"),\n",
    "    HumanMessage(content=\"Translate: I love artificial intelligence.\"),\n",
    "    AIMessage(content=\"J'adore l'intelligence artificielle.\"),\n",
    "    HumanMessage(content=\"Translate: I love machine learning.\"),\n",
    "    AIMessage(content=\"J'adore l'apprentissage automatique.\"),\n",
    "]"
   ]
  },
  {
   "cell_type": "code",
   "execution_count": 30,
   "id": "1d70a2cc",
   "metadata": {},
   "outputs": [],
   "source": [
    "memory.chat_memory.add_user_message(\"Hello!\")\n",
    "memory.chat_memory.add_ai_message(\"Hi there!\")"
   ]
  },
  {
   "cell_type": "code",
   "execution_count": 27,
   "id": "a9e8944c",
   "metadata": {},
   "outputs": [],
   "source": [
    "memory.chat_memory.messages.append(messages)"
   ]
  },
  {
   "cell_type": "code",
   "execution_count": 31,
   "id": "d6270e03",
   "metadata": {},
   "outputs": [
    {
     "data": {
      "text/plain": [
       "[HumanMessage(content='Hello!', additional_kwargs={}, response_metadata={}),\n",
       " AIMessage(content='Hi there!', additional_kwargs={}, response_metadata={})]"
      ]
     },
     "execution_count": 31,
     "metadata": {},
     "output_type": "execute_result"
    }
   ],
   "source": [
    "memory.chat_memory.messages"
   ]
  },
  {
   "cell_type": "code",
   "execution_count": 33,
   "id": "64b93a8e",
   "metadata": {},
   "outputs": [
    {
     "name": "stdout",
     "output_type": "stream",
     "text": [
      "system: You are a helpful assistant that translates English to French.\n",
      "human: Translate: I love programming.\n",
      "ai: J'adore programmer.\n",
      "human: Translate: I love artificial intelligence.\n",
      "ai: J'adore l'intelligence artificielle.\n",
      "human: Translate: I love machine learning.\n",
      "ai: J'adore l'apprentissage automatique.\n"
     ]
    }
   ],
   "source": [
    "for message in messages:\n",
    "    memory.chat_memory.messages.append(message)\n",
    "    print(f\"{message.type}: {message.content}\")"
   ]
  },
  {
   "cell_type": "code",
   "execution_count": 34,
   "id": "8af0c95d",
   "metadata": {},
   "outputs": [
    {
     "data": {
      "text/plain": [
       "[HumanMessage(content='Hello!', additional_kwargs={}, response_metadata={}),\n",
       " AIMessage(content='Hi there!', additional_kwargs={}, response_metadata={}),\n",
       " SystemMessage(content='You are a helpful assistant that translates English to French.', additional_kwargs={}, response_metadata={}),\n",
       " HumanMessage(content='Translate: I love programming.', additional_kwargs={}, response_metadata={}),\n",
       " AIMessage(content=\"J'adore programmer.\", additional_kwargs={}, response_metadata={}),\n",
       " HumanMessage(content='Translate: I love artificial intelligence.', additional_kwargs={}, response_metadata={}),\n",
       " AIMessage(content=\"J'adore l'intelligence artificielle.\", additional_kwargs={}, response_metadata={}),\n",
       " HumanMessage(content='Translate: I love machine learning.', additional_kwargs={}, response_metadata={}),\n",
       " AIMessage(content=\"J'adore l'apprentissage automatique.\", additional_kwargs={}, response_metadata={})]"
      ]
     },
     "execution_count": 34,
     "metadata": {},
     "output_type": "execute_result"
    }
   ],
   "source": [
    "memory.chat_memory.messages"
   ]
  },
  {
   "cell_type": "code",
   "execution_count": 35,
   "id": "9aadc160",
   "metadata": {},
   "outputs": [
    {
     "data": {
      "text/plain": [
       "dict"
      ]
     },
     "execution_count": 35,
     "metadata": {},
     "output_type": "execute_result"
    }
   ],
   "source": [
    "active_session = {}\n",
    "\n",
    "type(active_session)"
   ]
  },
  {
   "cell_type": "code",
   "execution_count": 36,
   "id": "f425ba90",
   "metadata": {},
   "outputs": [],
   "source": [
    "active_session[\"conversation_memory\"] = \"memory\""
   ]
  },
  {
   "cell_type": "code",
   "execution_count": 37,
   "id": "690b7422",
   "metadata": {},
   "outputs": [
    {
     "data": {
      "text/plain": [
       "{'conversation_memory': 'memory'}"
      ]
     },
     "execution_count": 37,
     "metadata": {},
     "output_type": "execute_result"
    }
   ],
   "source": [
    "active_session"
   ]
  },
  {
   "cell_type": "code",
   "execution_count": 39,
   "id": "3c12c0fc",
   "metadata": {},
   "outputs": [],
   "source": [
    "from typing import Dict\n",
    "\n",
    "active_sessions: Dict[str, ConversationBufferMemory] = {}"
   ]
  },
  {
   "cell_type": "code",
   "execution_count": null,
   "id": "6f57c217",
   "metadata": {},
   "outputs": [],
   "source": [
    "def get_memory(session_id):\n",
    "    if session_id not in active_sessions:\n",
    "        active_sessions[session_id] = ConversationBufferMemory(return_messages=True)\n",
    "    return active_sessions[session_id]"
   ]
  },
  {
   "cell_type": "code",
   "execution_count": null,
   "id": "9af78959",
   "metadata": {},
   "outputs": [],
   "source": []
  }
 ],
 "metadata": {
  "kernelspec": {
   "display_name": ".venv",
   "language": "python",
   "name": "python3"
  },
  "language_info": {
   "codemirror_mode": {
    "name": "ipython",
    "version": 3
   },
   "file_extension": ".py",
   "mimetype": "text/x-python",
   "name": "python",
   "nbconvert_exporter": "python",
   "pygments_lexer": "ipython3",
   "version": "3.10.0"
  }
 },
 "nbformat": 4,
 "nbformat_minor": 5
}
