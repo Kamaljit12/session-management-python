{
 "cells": [
  {
   "cell_type": "code",
   "execution_count": 1,
   "id": "3e4bc1bf",
   "metadata": {},
   "outputs": [],
   "source": [
    "# database.py\n",
    "from sqlalchemy import create_engine\n",
    "from sqlalchemy.ext.declarative import declarative_base\n",
    "from sqlalchemy.orm import sessionmaker\n",
    "from sqlalchemy import orm"
   ]
  },
  {
   "cell_type": "code",
   "execution_count": null,
   "id": "fd7a22a4",
   "metadata": {},
   "outputs": [],
   "source": []
  },
  {
   "cell_type": "markdown",
   "id": "4527fe41",
   "metadata": {},
   "source": [
    "### 🧩 Database setup"
   ]
  },
  {
   "cell_type": "code",
   "execution_count": 2,
   "id": "2041a5e0",
   "metadata": {},
   "outputs": [],
   "source": [
    "# Using SQLite (local file)\n",
    "DATABASE_URL = \"sqlite:///./chat_memory.db\"\n",
    "\n",
    "engine = create_engine(DATABASE_URL, connect_args={\"check_same_thread\": False})\n",
    "SessionLocal = sessionmaker(bind=engine, autoflush=False, autocommit=False)\n",
    "\n",
    "Base = orm.declarative_base()"
   ]
  },
  {
   "cell_type": "markdown",
   "id": "04ac979b",
   "metadata": {},
   "source": [
    "### 🧩 Create a model (table for chat sessions)"
   ]
  },
  {
   "cell_type": "code",
   "execution_count": 3,
   "id": "b8dad042",
   "metadata": {},
   "outputs": [],
   "source": [
    "# models.py\n",
    "from sqlalchemy import Column, String, Text, DateTime\n",
    "from datetime import datetime\n",
    "# from .database import Base\n",
    "\n",
    "class ChatSession(Base):\n",
    "    __tablename__ = \"chat_sessions\"\n",
    "\n",
    "    session_id = Column(String, primary_key=True, index=True)\n",
    "    history = Column(Text)  # store messages as JSON\n",
    "    created_at = Column(DateTime, default=datetime.utcnow)\n",
    "    updated_at = Column(DateTime, default=datetime.utcnow, onupdate=datetime.utcnow)"
   ]
  },
  {
   "cell_type": "markdown",
   "id": "73b92ec7",
   "metadata": {},
   "source": [
    "### 🧩 Create the database table"
   ]
  },
  {
   "cell_type": "code",
   "execution_count": 4,
   "id": "cfe5d339",
   "metadata": {},
   "outputs": [
    {
     "name": "stdout",
     "output_type": "stream",
     "text": [
      "✅ Database and table created successfully!\n"
     ]
    }
   ],
   "source": [
    "# create_tables.py\n",
    "# from database import Base, engine\n",
    "# from models import ChatSession\n",
    "\n",
    "Base.metadata.create_all(bind=engine)\n",
    "print(\"✅ Database and table created successfully!\")"
   ]
  },
  {
   "cell_type": "markdown",
   "id": "b9a97d03",
   "metadata": {},
   "source": [
    "### 🧩 Add conversation memory management"
   ]
  },
  {
   "cell_type": "code",
   "execution_count": 5,
   "id": "e834a97c",
   "metadata": {},
   "outputs": [],
   "source": [
    "# chat_memory.py\n",
    "import json\n",
    "import uuid\n",
    "from sqlalchemy.orm import Session\n",
    "from langchain.memory import ConversationBufferMemory\n",
    "# from database import SessionLocal\n",
    "# from models import ChatSession"
   ]
  },
  {
   "cell_type": "code",
   "execution_count": 39,
   "id": "c6b3ae0a",
   "metadata": {},
   "outputs": [],
   "source": [
    "# ---------- save memory inot sql ---------------------\n",
    "def save_memory(session_id: str, memory: ConversationBufferMemory):\n",
    "    db: Session = SessionLocal()\n",
    "\n",
    "    try:\n",
    "        messages = [\n",
    "            {\"role\": \"user\" if msg.type==\"human\" else \"assistant\", \"content\": msg.content}\n",
    "            for msg in memory.chat_memory.messages\n",
    "        ]\n",
    "\n",
    "        serialized = json.dumps(messages)\n",
    "\n",
    "        db_session = db.query(ChatSession).filter_by(session_id=session_id).first()\n",
    "\n",
    "        if db_session:\n",
    "            db_session.history = serialized\n",
    "        else:\n",
    "            db_session = ChatSession(session_id=session_id, history=serialized)\n",
    "            db.add(db_session)\n",
    "\n",
    "        db.commit()\n",
    "        print(f\"✅ Memory saved for session {session_id}\")\n",
    "    finally:\n",
    "        db.close()"
   ]
  },
  {
   "cell_type": "code",
   "execution_count": 8,
   "id": "c9fbe71d",
   "metadata": {},
   "outputs": [],
   "source": [
    "# --- Load memory from SQL ---\n",
    "def load_memory(session_id: str) -> ConversationBufferMemory | None:\n",
    "    db: Session = SessionLocal()\n",
    "    try:\n",
    "        db_session = db.query(ChatSession).filter_by(session_id=session_id).first()\n",
    "        if not db_session:\n",
    "            print(\"❌ Session not found in DB.\")\n",
    "            return None\n",
    "\n",
    "        memory = ConversationBufferMemory(return_messages=True)\n",
    "        history = json.loads(db_session.history)\n",
    "        for msg in history:\n",
    "            if msg[\"role\"] == \"user\":\n",
    "                memory.chat_memory.add_user_message(msg[\"content\"])\n",
    "            else:\n",
    "                memory.chat_memory.add_ai_message(msg[\"content\"])\n",
    "\n",
    "        print(f\"✅ Loaded memory for session {session_id}\")\n",
    "        return memory\n",
    "    finally:\n",
    "        db.close()"
   ]
  },
  {
   "cell_type": "markdown",
   "id": "93c83e38",
   "metadata": {},
   "source": [
    "### 🧩 Test it out"
   ]
  },
  {
   "cell_type": "code",
   "execution_count": 24,
   "id": "f34cf068",
   "metadata": {},
   "outputs": [],
   "source": [
    "# test_chat.py\n",
    "# from langchain.memory import ConversationStringBufferMemory\n",
    "from langchain.memory import ConversationBufferMemory\n",
    "# from chat_memory import save_memory, load_memory\n",
    "import uuid\n",
    "\n",
    "# step 1: create new memory\n",
    "\n",
    "session_id = str(uuid.uuid4().hex)\n",
    "memory = ConversationBufferMemory(return_messages=True)"
   ]
  },
  {
   "cell_type": "code",
   "execution_count": null,
   "id": "9ab3ff4c",
   "metadata": {},
   "outputs": [],
   "source": [
    "# add a chat messages\n",
    "memory.chat_memory.add_user_message(\"Hello, How are you?\")\n",
    "memory.chat_memory.add_ai_message(\"I'm good what about you?\")\n",
    "memory.chat_memory.add_user_message(\"what is 2 + 2?\")\n",
    "memory.chat_memory.add_ai_message(\"2 +2 = 4.\")"
   ]
  },
  {
   "cell_type": "code",
   "execution_count": 35,
   "id": "f2635771",
   "metadata": {},
   "outputs": [
    {
     "name": "stdout",
     "output_type": "stream",
     "text": [
      "human : Hello, How are you?\n",
      "ai : I'm good what about you?\n",
      "human : what is 2 + 2?\n",
      "ai : 2 +2 = 4.\n"
     ]
    }
   ],
   "source": [
    "for msg in memory.chat_memory.messages:\n",
    "    print(msg.type, \":\" ,msg.content)"
   ]
  },
  {
   "cell_type": "code",
   "execution_count": 40,
   "id": "d4c6badb",
   "metadata": {},
   "outputs": [
    {
     "name": "stdout",
     "output_type": "stream",
     "text": [
      "✅ Memory saved for session de5dfbf97a1b406787bf3b2e4d9bab11\n"
     ]
    }
   ],
   "source": [
    "# Step 2: Save memory\n",
    "save_memory(session_id, memory)"
   ]
  },
  {
   "cell_type": "code",
   "execution_count": 41,
   "id": "c6f409bb",
   "metadata": {},
   "outputs": [
    {
     "name": "stdout",
     "output_type": "stream",
     "text": [
      "✅ Loaded memory for session de5dfbf97a1b406787bf3b2e4d9bab11\n"
     ]
    }
   ],
   "source": [
    "# Step 3: Load memory later\n",
    "loaded_memory = load_memory(session_id)"
   ]
  },
  {
   "cell_type": "code",
   "execution_count": 42,
   "id": "e553b479",
   "metadata": {},
   "outputs": [
    {
     "data": {
      "text/plain": [
       "ConversationBufferMemory(chat_memory=InMemoryChatMessageHistory(messages=[HumanMessage(content='Hello, How are you?', additional_kwargs={}, response_metadata={}), AIMessage(content=\"I'm good what about you?\", additional_kwargs={}, response_metadata={}), HumanMessage(content='what is 2 + 2?', additional_kwargs={}, response_metadata={}), AIMessage(content='2 +2 = 4.', additional_kwargs={}, response_metadata={})]), return_messages=True)"
      ]
     },
     "execution_count": 42,
     "metadata": {},
     "output_type": "execute_result"
    }
   ],
   "source": [
    "loaded_memory"
   ]
  },
  {
   "cell_type": "code",
   "execution_count": 43,
   "id": "e05b523b",
   "metadata": {},
   "outputs": [
    {
     "name": "stdout",
     "output_type": "stream",
     "text": [
      "\n",
      "--- Loaded Chat History ---\n",
      "HUMAN: Hello, How are you?\n",
      "AI: I'm good what about you?\n",
      "HUMAN: what is 2 + 2?\n",
      "AI: 2 +2 = 4.\n"
     ]
    }
   ],
   "source": [
    "print(\"\\n--- Loaded Chat History ---\")\n",
    "for msg in loaded_memory.chat_memory.messages:\n",
    "    print(f\"{msg.type.upper()}: {msg.content}\")"
   ]
  },
  {
   "cell_type": "code",
   "execution_count": null,
   "id": "606a9727",
   "metadata": {},
   "outputs": [],
   "source": []
  },
  {
   "cell_type": "code",
   "execution_count": null,
   "id": "cc8b4740",
   "metadata": {},
   "outputs": [],
   "source": []
  }
 ],
 "metadata": {
  "kernelspec": {
   "display_name": ".venv",
   "language": "python",
   "name": "python3"
  },
  "language_info": {
   "codemirror_mode": {
    "name": "ipython",
    "version": 3
   },
   "file_extension": ".py",
   "mimetype": "text/x-python",
   "name": "python",
   "nbconvert_exporter": "python",
   "pygments_lexer": "ipython3",
   "version": "3.10.0"
  }
 },
 "nbformat": 4,
 "nbformat_minor": 5
}
