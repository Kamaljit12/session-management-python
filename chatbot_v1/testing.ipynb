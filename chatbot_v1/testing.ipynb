{
 "cells": [
  {
   "cell_type": "code",
   "execution_count": 23,
   "id": "79eb9552",
   "metadata": {},
   "outputs": [],
   "source": [
    "from pydantic import BaseModel\n",
    "\n",
    "\n",
    "class ChatMessage(BaseModel):\n",
    "    message:str\n",
    "    response:str = None\n",
    "\n",
    "\n",
    "class SessionID(BaseModel):\n",
    "    session_id: str"
   ]
  },
  {
   "cell_type": "code",
   "execution_count": 24,
   "id": "65469dea",
   "metadata": {},
   "outputs": [],
   "source": [
    "from schemas import ChatRequest\n",
    "from langchain_groq import ChatGroq\n",
    "from dotenv import load_dotenv\n",
    "load_dotenv()\n",
    "import os\n",
    "\n",
    "\n",
    "llm = ChatGroq(model=\"llama-3.1-8b-instant\",\n",
    "               groq_api_key=os.getenv(\"GROQ_API_KEY\"))\n",
    "\n",
    "def get_response(state: ChatMessage):\n",
    "\n",
    "    # USE QUERY\n",
    "    message = state.message\n",
    "\n",
    "    # promtp\n",
    "    prompt = f\"Give the user response based on the user query: {message}\"\n",
    "\n",
    "    # llm response\n",
    "    response_text = llm.invoke(prompt).content\n",
    "\n",
    "    # update the llm respone in chatRequest model\n",
    "    state.response = response_text\n",
    "\n",
    "    return state"
   ]
  },
  {
   "cell_type": "code",
   "execution_count": 25,
   "id": "36235327",
   "metadata": {},
   "outputs": [
    {
     "name": "stdout",
     "output_type": "stream",
     "text": [
      "message='what is the capital of india?' response='The capital of India is New Delhi.'\n"
     ]
    }
   ],
   "source": [
    "query = ChatMessage(message=\"what is the capital of india?\")\n",
    "response = get_response(state=query)\n",
    "print(response)"
   ]
  },
  {
   "cell_type": "code",
   "execution_count": 140,
   "id": "7b30a173",
   "metadata": {},
   "outputs": [
    {
     "data": {
      "text/plain": [
       "ChatMessage(message='what is the capital of india?', response='The capital of India is New Delhi.')"
      ]
     },
     "execution_count": 140,
     "metadata": {},
     "output_type": "execute_result"
    }
   ],
   "source": [
    "response"
   ]
  },
  {
   "cell_type": "markdown",
   "id": "078579b6",
   "metadata": {},
   "source": [
    "### Add memory"
   ]
  },
  {
   "cell_type": "code",
   "execution_count": 100,
   "id": "274099f1",
   "metadata": {},
   "outputs": [],
   "source": [
    "from langchain.memory import ConversationBufferMemory\n",
    "from langchain.schema import AIMessage, HumanMessage, SystemMessage\n",
    "from typing import Dict\n",
    "\n",
    "active_sessions: Dict[str, ConversationBufferMemory] = {}\n",
    "# memory = ConversationBufferMemory(return_messages=True)"
   ]
  },
  {
   "cell_type": "code",
   "execution_count": 87,
   "id": "bd4cb42a",
   "metadata": {},
   "outputs": [],
   "source": [
    "import uuid\n",
    "\n",
    "def get_or_create_session_id(session_id: str):\n",
    "\n",
    "    try:\n",
    "        if session_id not in active_sessions:\n",
    "            session_id = str(uuid.uuid3().hex)\n",
    "            return session_id\n",
    "        else:\n",
    "            return session_id\n",
    "    \n",
    "    except Exception as e:\n",
    "        print(\"Session id not found\")\n",
    "        "
   ]
  },
  {
   "cell_type": "code",
   "execution_count": null,
   "id": "015d5df6",
   "metadata": {},
   "outputs": [],
   "source": []
  },
  {
   "cell_type": "code",
   "execution_count": 101,
   "id": "ee32fede",
   "metadata": {},
   "outputs": [
    {
     "data": {
      "text/plain": [
       "{}"
      ]
     },
     "execution_count": 101,
     "metadata": {},
     "output_type": "execute_result"
    }
   ],
   "source": [
    "active_sessions"
   ]
  },
  {
   "cell_type": "code",
   "execution_count": 108,
   "id": "16ea3bf0",
   "metadata": {},
   "outputs": [
    {
     "data": {
      "text/plain": [
       "{}"
      ]
     },
     "execution_count": 108,
     "metadata": {},
     "output_type": "execute_result"
    }
   ],
   "source": [
    "active_sessions"
   ]
  },
  {
   "cell_type": "code",
   "execution_count": 120,
   "id": "864cb696",
   "metadata": {},
   "outputs": [],
   "source": [
    "def get_or_create_session_id(session_id: str | None = None) -> str:\n",
    "\n",
    "    if session_id not in active_sessions:\n",
    "        session_id = str(uuid.uuid4().hex)\n",
    "        active_sessions[session_id] = ConversationBufferMemory()\n",
    "\n",
    "    else:\n",
    "        active_sessions[session_id]\n",
    "    \n",
    "    return active_sessions[session_id].chat_memory.messages"
   ]
  },
  {
   "cell_type": "code",
   "execution_count": 123,
   "id": "84251c11",
   "metadata": {},
   "outputs": [
    {
     "name": "stdout",
     "output_type": "stream",
     "text": [
      "[]\n"
     ]
    }
   ],
   "source": [
    "message_list = get_or_create_session_id(session_id=\"910525126aa84aa2967f10649f2154c7\")\n",
    "print(message_list)"
   ]
  },
  {
   "cell_type": "code",
   "execution_count": 141,
   "id": "549f8956",
   "metadata": {},
   "outputs": [],
   "source": [
    "def update_conversation_database(session_id: str, messages: ChatMessage):\n",
    "\n",
    "\n",
    "    message_list = get_or_create_session_id(session_id=session_id)\n",
    "    \n",
    "    for msg in messages:\n",
    "        if msg[0] == \"message\":\n",
    "            human = HumanMessage(content=msg[1])\n",
    "            message_list.append(human)\n",
    "\n",
    "        else:\n",
    "            ai = AIMessage(content=msg[1])\n",
    "            message_list.append(ai)"
   ]
  },
  {
   "cell_type": "code",
   "execution_count": 144,
   "id": "bc5e3b97",
   "metadata": {},
   "outputs": [],
   "source": [
    "update_conversation_database(session_id=\"910525126aa84aa2967f10649f2154c7\", messages=response)"
   ]
  },
  {
   "cell_type": "code",
   "execution_count": 145,
   "id": "d252fab2",
   "metadata": {},
   "outputs": [
    {
     "data": {
      "text/plain": [
       "{'910525126aa84aa2967f10649f2154c7': ConversationBufferMemory(chat_memory=InMemoryChatMessageHistory(messages=[HumanMessage(content='what is the capital of india?', additional_kwargs={}, response_metadata={}), AIMessage(content='The capital of India is New Delhi.', additional_kwargs={}, response_metadata={}), HumanMessage(content='what is the capital of india?', additional_kwargs={}, response_metadata={}), AIMessage(content='The capital of India is New Delhi.', additional_kwargs={}, response_metadata={})])),\n",
       " 'c5289285661a4116acf3d5b9c34b6ed7': ConversationBufferMemory(chat_memory=InMemoryChatMessageHistory(messages=[('content', 'what is the capital of india?'), ('additional_kwargs', {}), ('response_metadata', {}), ('type', 'human'), ('name', None), ('id', None), ('example', False), ('content', 'The capital of India is New Delhi.'), ('additional_kwargs', {}), ('response_metadata', {}), ('type', 'ai'), ('name', None), ('id', None), ('example', False), ('tool_calls', []), ('invalid_tool_calls', []), ('usage_metadata', None)])),\n",
       " 'c629f35f0eb7404b850730de9c429b77': ConversationBufferMemory(chat_memory=InMemoryChatMessageHistory(messages=[('content', 'what is the capital of india?'), ('additional_kwargs', {}), ('response_metadata', {}), ('type', 'human'), ('name', None), ('id', None), ('example', False), ('content', 'The capital of India is New Delhi.'), ('additional_kwargs', {}), ('response_metadata', {}), ('type', 'ai'), ('name', None), ('id', None), ('example', False), ('tool_calls', []), ('invalid_tool_calls', []), ('usage_metadata', None)]))}"
      ]
     },
     "execution_count": 145,
     "metadata": {},
     "output_type": "execute_result"
    }
   ],
   "source": [
    "active_sessions"
   ]
  },
  {
   "cell_type": "code",
   "execution_count": null,
   "id": "c8a387e1",
   "metadata": {},
   "outputs": [],
   "source": []
  },
  {
   "cell_type": "code",
   "execution_count": null,
   "id": "626697b5",
   "metadata": {},
   "outputs": [],
   "source": []
  },
  {
   "cell_type": "code",
   "execution_count": null,
   "id": "0a8a2819",
   "metadata": {},
   "outputs": [],
   "source": []
  }
 ],
 "metadata": {
  "kernelspec": {
   "display_name": ".venv",
   "language": "python",
   "name": "python3"
  },
  "language_info": {
   "codemirror_mode": {
    "name": "ipython",
    "version": 3
   },
   "file_extension": ".py",
   "mimetype": "text/x-python",
   "name": "python",
   "nbconvert_exporter": "python",
   "pygments_lexer": "ipython3",
   "version": "3.10.0"
  }
 },
 "nbformat": 4,
 "nbformat_minor": 5
}
